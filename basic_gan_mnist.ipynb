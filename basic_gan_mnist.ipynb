{
 "cells": [
  {
   "cell_type": "code",
   "execution_count": 113,
   "id": "df0c186a",
   "metadata": {},
   "outputs": [],
   "source": [
    "import torch\n",
    "import torchvision\n",
    "import torchvision.utils as vutils\n",
    "import torch.nn as nn\n",
    "from PIL import Image\n",
    "import matplotlib.pyplot as plt\n",
    "import numpy as np"
   ]
  },
  {
   "cell_type": "code",
   "execution_count": 2,
   "id": "37665047",
   "metadata": {},
   "outputs": [],
   "source": [
    "###"
   ]
  },
  {
   "cell_type": "code",
   "execution_count": 36,
   "id": "0c8b01b6",
   "metadata": {},
   "outputs": [],
   "source": [
    "transform = torchvision.transforms.Compose([\n",
    "    # you can add other transformations in this list\n",
    "    torchvision.transforms.Resize(64),\n",
    "    torchvision.transforms.ToTensor()\n",
    "])\n",
    "mnist_data = torchvision.datasets.MNIST(root='',download=True,transform=transform)"
   ]
  },
  {
   "cell_type": "code",
   "execution_count": 37,
   "id": "98930a21",
   "metadata": {},
   "outputs": [],
   "source": [
    "data_loader = torch.utils.data.DataLoader(mnist_data,batch_size=32,shuffle=True,)"
   ]
  },
  {
   "cell_type": "code",
   "execution_count": 49,
   "id": "4c2010d2",
   "metadata": {},
   "outputs": [],
   "source": [
    "test = next(iter(data_loader))\n",
    "test = test[0][0]\n",
    "test = test.reshape((64,64,1))"
   ]
  },
  {
   "cell_type": "code",
   "execution_count": 50,
   "id": "5e0d5369",
   "metadata": {},
   "outputs": [
    {
     "data": {
      "text/plain": [
       "<matplotlib.image.AxesImage at 0x157178e50>"
      ]
     },
     "execution_count": 50,
     "metadata": {},
     "output_type": "execute_result"
    },
    {
     "data": {
      "image/png": "[encoded data removed]",
      "text/plain": [
       "<Figure size 432x288 with 1 Axes>"
      ]
     },
     "metadata": {
      "needs_background": "light"
     },
     "output_type": "display_data"
    }
   ],
   "source": [
    "plt.imshow(test,cmap='gray')"
   ]
  },
  {
   "cell_type": "code",
   "execution_count": 31,
   "id": "11df9d0f",
   "metadata": {},
   "outputs": [],
   "source": [
    "### Now time for Generator and Discriminator"
   ]
  },
  {
   "cell_type": "code",
   "execution_count": 51,
   "id": "08bf2d90",
   "metadata": {},
   "outputs": [],
   "source": [
    "batch_size = 32\n",
    "number_channels = 1\n",
    "number_latent = 50\n",
    "ngf = 64\n",
    "ndf = 64\n",
    "num_epochs = 10\n",
    "lr = 0.0002\n",
    "beta1 = 0.5"
   ]
  },
  {
   "cell_type": "code",
   "execution_count": 56,
   "id": "e69e959e",
   "metadata": {},
   "outputs": [],
   "source": [
    "class Generator(nn.Module):\n",
    "    def __init__(self):\n",
    "        super(Generator, self).__init__()\n",
    "        self.model = nn.Sequential(\n",
    "            nn.ConvTranspose2d(number_latent,ngf*8,4,1,bias=False),\n",
    "            nn.BatchNorm2d(ngf*8),\n",
    "            nn.ReLU(True),\n",
    "            #channels*dim*dim = (ngf*8) * 4 * 4\n",
    "            nn.ConvTranspose2d(ngf*8,ngf*4,4,2,1,bias=False),\n",
    "            nn.BatchNorm2d(ngf*4),\n",
    "            nn.ReLU(True),\n",
    "            #channels*dim*dim = (ngf*4) * 8 *8,\n",
    "            nn.ConvTranspose2d(ngf*4,ngf*2,4,2,1,bias=False),\n",
    "            nn.BatchNorm2d(ngf*2),\n",
    "            nn.ReLU(True),\n",
    "            #channels*dim*dim = (ngf*2) * 16 * 16\n",
    "            nn.ConvTranspose2d(ngf*2,ngf,4,2,1,bias=False),\n",
    "            nn.BatchNorm2d(ngf),\n",
    "            nn.ReLU(True),\n",
    "            #channels*dim*dim = ngf * 32 * 32\n",
    "            nn.ConvTranspose2d(ngf,number_channels,4,2,1,bias=False),\n",
    "            nn.Sigmoid()\n",
    "            #channes*dim*dim = number_channels * 64 * 64\n",
    "        )\n",
    "        \n",
    "    def forward(self,x):\n",
    "        return self.model(x)"
   ]
  },
  {
   "cell_type": "code",
   "execution_count": 104,
   "id": "267d5634",
   "metadata": {},
   "outputs": [
    {
     "data": {
      "text/plain": [
       "<matplotlib.image.AxesImage at 0x157381460>"
      ]
     },
     "execution_count": 104,
     "metadata": {},
     "output_type": "execute_result"
    },
    {
     "data": {
      "image/png": "[encoded data removed]",
      "text/plain": [
       "<Figure size 432x288 with 1 Axes>"
      ]
     },
     "metadata": {
      "needs_background": "light"
     },
     "output_type": "display_data"
    }
   ],
   "source": [
    "# TESTING THAT GENERATOR PRODUCES AN IMAGE OF THE CORRECT SIZE/SHAPE\n",
    "netG = Generator()\n",
    "noise = np.random.normal(size=(1,50,1,1))\n",
    "noise = torch.from_numpy(noise).float()\n",
    "test_output = netG(noise)\n",
    "test_img = test_output[0].detach().numpy().reshape((64,64))\n",
    "plt.imshow(test_img,cmap='gray')"
   ]
  },
  {
   "cell_type": "code",
   "execution_count": 100,
   "id": "601afd0e",
   "metadata": {},
   "outputs": [],
   "source": [
    "class Discriminator(nn.Module):\n",
    "    def __init__(self):\n",
    "        super(Discriminator,self).__init__()\n",
    "        self.model = nn.Sequential(\n",
    "        #input shape = number_channels * 64 * 64\n",
    "        nn.Conv2d(number_channels,ndf,4,2,1,bias=False),\n",
    "        nn.LeakyReLU(0.2,inplace=True),\n",
    "        # ndf * 32 * 32\n",
    "        nn.Conv2d(ndf,ndf*2,4,2,1,bias=False),\n",
    "        nn.BatchNorm2d(ndf*2),\n",
    "        nn.LeakyReLU(0.2,inplace=True),\n",
    "        # (ndf*2) * 16 * 16\n",
    "        nn.Conv2d(ndf*2,ndf*4,4,2,1,bias=False),\n",
    "        nn.BatchNorm2d(ndf*4),\n",
    "        nn.LeakyReLU(0.2,inplace=True),\n",
    "        # (ndf*4) * 8 * 8\n",
    "        nn.Conv2d(ndf*4,ndf*8,4,2,1,bias=False),\n",
    "        nn.BatchNorm2d(ndf*8),\n",
    "        nn.LeakyReLU(0.2,inplace=True),\n",
    "        # (ndf*8) * 4 * 4\n",
    "        nn.Conv2d(ndf*8,1,4,1,0,bias=False),\n",
    "        nn.Flatten(),\n",
    "        nn.Sigmoid()\n",
    "        )\n",
    "    def forward(self,x):\n",
    "        return self.model(x)"
   ]
  },
  {
   "cell_type": "code",
   "execution_count": 110,
   "id": "96d44067",
   "metadata": {},
   "outputs": [
    {
     "name": "stdout",
     "output_type": "stream",
     "text": [
      "tensor([[0.5065]], grad_fn=<SigmoidBackward>)\n"
     ]
    }
   ],
   "source": [
    "# TESTING THAT THE DISCRIMINATOR WORKS PROPERLY\n",
    "netD = Discriminator()\n",
    "test_discrim = netD(test_output)\n",
    "print(test_discrim)"
   ]
  },
  {
   "cell_type": "code",
   "execution_count": 112,
   "id": "469aaf0f",
   "metadata": {},
   "outputs": [],
   "source": [
    "criterion = nn.BCELoss()\n",
    "\n",
    "fixed_noise = np.random.normal(size=(1,number_latent,1,1))\n",
    "fixed_noise = torch.from_numpy(fixed_noise).float()\n",
    "\n",
    "real_label = 1.\n",
    "fake_label = 0.\n",
    "\n",
    "optimizerD = torch.optim.Adam(netD.parameters(),lr=lr,betas=(beta1, 0.999))\n",
    "optimizerG = torch.optim.Adam(netG.parameters(),lr=lr,betas=(beta1, 0.999))"
   ]
  },
  {
   "cell_type": "code",
   "execution_count": 132,
   "id": "cbd832a5",
   "metadata": {},
   "outputs": [
    {
     "name": "stdout",
     "output_type": "stream",
     "text": [
      "[0/10][0/1875]\tLoss_D: 0.3671\tLoss_G: 5.2163\tD(x): 0.9666\tD(G(z)): 0.2716 / 0.0057\n",
      "[0/10][50/1875]\tLoss_D: 0.0474\tLoss_G: 6.1330\tD(x): 0.9780\tD(G(z)): 0.0243 / 0.0024\n",
      "[0/10][100/1875]\tLoss_D: 0.3950\tLoss_G: 4.8163\tD(x): 0.7371\tD(G(z)): 0.0342 / 0.0173\n",
      "[0/10][150/1875]\tLoss_D: 0.4359\tLoss_G: 3.3584\tD(x): 0.7822\tD(G(z)): 0.1027 / 0.0452\n",
      "[0/10][200/1875]\tLoss_D: 0.5603\tLoss_G: 1.9713\tD(x): 0.7555\tD(G(z)): 0.1889 / 0.1666\n",
      "[0/10][250/1875]\tLoss_D: 0.5996\tLoss_G: 1.1833\tD(x): 0.6447\tD(G(z)): 0.0836 / 0.3513\n",
      "[0/10][300/1875]\tLoss_D: 1.1410\tLoss_G: 0.6969\tD(x): 0.4344\tD(G(z)): 0.1035 / 0.5451\n",
      "[0/10][350/1875]\tLoss_D: 0.7481\tLoss_G: 1.1386\tD(x): 0.6464\tD(G(z)): 0.2267 / 0.3540\n",
      "[0/10][400/1875]\tLoss_D: 0.6822\tLoss_G: 1.6283\tD(x): 0.7187\tD(G(z)): 0.2608 / 0.2337\n",
      "[0/10][450/1875]\tLoss_D: 0.8252\tLoss_G: 1.4173\tD(x): 0.6041\tD(G(z)): 0.2060 / 0.2684\n",
      "[0/10][500/1875]\tLoss_D: 1.5173\tLoss_G: 2.4487\tD(x): 0.8899\tD(G(z)): 0.6980 / 0.0990\n",
      "[0/10][550/1875]\tLoss_D: 1.2294\tLoss_G: 2.8990\tD(x): 0.8462\tD(G(z)): 0.5741 / 0.0654\n",
      "[0/10][600/1875]\tLoss_D: 1.1233\tLoss_G: 0.7844\tD(x): 0.4959\tD(G(z)): 0.2771 / 0.4837\n",
      "[0/10][650/1875]\tLoss_D: 1.0933\tLoss_G: 0.7142\tD(x): 0.4362\tD(G(z)): 0.1620 / 0.5152\n",
      "[0/10][700/1875]\tLoss_D: 0.9644\tLoss_G: 1.7921\tD(x): 0.7077\tD(G(z)): 0.4271 / 0.1814\n",
      "[0/10][750/1875]\tLoss_D: 0.9494\tLoss_G: 1.1766\tD(x): 0.5968\tD(G(z)): 0.3097 / 0.3402\n",
      "[0/10][800/1875]\tLoss_D: 0.8692\tLoss_G: 1.7271\tD(x): 0.6388\tD(G(z)): 0.2835 / 0.1919\n",
      "[0/10][850/1875]\tLoss_D: 1.4996\tLoss_G: 0.6858\tD(x): 0.2944\tD(G(z)): 0.0825 / 0.5437\n",
      "[0/10][900/1875]\tLoss_D: 1.0277\tLoss_G: 1.0353\tD(x): 0.6231\tD(G(z)): 0.3614 / 0.3900\n",
      "[0/10][950/1875]\tLoss_D: 0.8617\tLoss_G: 1.5261\tD(x): 0.6030\tD(G(z)): 0.2446 / 0.2378\n",
      "[0/10][1000/1875]\tLoss_D: 0.7269\tLoss_G: 2.3302\tD(x): 0.8430\tD(G(z)): 0.4001 / 0.1095\n",
      "[0/10][1050/1875]\tLoss_D: 0.9820\tLoss_G: 2.0455\tD(x): 0.6523\tD(G(z)): 0.3650 / 0.1551\n",
      "[0/10][1100/1875]\tLoss_D: 1.5682\tLoss_G: 0.3571\tD(x): 0.3064\tD(G(z)): 0.1525 / 0.7234\n",
      "[0/10][1150/1875]\tLoss_D: 1.3184\tLoss_G: 0.9429\tD(x): 0.3341\tD(G(z)): 0.0610 / 0.4321\n",
      "[0/10][1200/1875]\tLoss_D: 0.8207\tLoss_G: 2.2182\tD(x): 0.7369\tD(G(z)): 0.3682 / 0.1203\n",
      "[0/10][1250/1875]\tLoss_D: 0.6807\tLoss_G: 1.5699\tD(x): 0.6421\tD(G(z)): 0.1763 / 0.2473\n"
     ]
    },
    {
     "ename": "KeyboardInterrupt",
     "evalue": "",
     "output_type": "error",
     "traceback": [
      "\u001b[0;31m---------------------------------------------------------------------------\u001b[0m",
      "\u001b[0;31mKeyboardInterrupt\u001b[0m                         Traceback (most recent call last)",
      "\u001b[0;32m<ipython-input-132-0da3e38d79af>\u001b[0m in \u001b[0;36m<module>\u001b[0;34m\u001b[0m\n\u001b[1;32m     48\u001b[0m         \u001b[0merrG\u001b[0m \u001b[0;34m=\u001b[0m \u001b[0mcriterion\u001b[0m\u001b[0;34m(\u001b[0m\u001b[0moutput\u001b[0m\u001b[0;34m,\u001b[0m\u001b[0mlabel\u001b[0m\u001b[0;34m)\u001b[0m \u001b[0;31m# If it's all correct, you did good because D thinks you're real\u001b[0m\u001b[0;34m\u001b[0m\u001b[0;34m\u001b[0m\u001b[0m\n\u001b[1;32m     49\u001b[0m         \u001b[0;31m# Calculate gradients for G\u001b[0m\u001b[0;34m\u001b[0m\u001b[0;34m\u001b[0m\u001b[0;34m\u001b[0m\u001b[0m\n\u001b[0;32m---> 50\u001b[0;31m         \u001b[0merrG\u001b[0m\u001b[0;34m.\u001b[0m\u001b[0mbackward\u001b[0m\u001b[0;34m(\u001b[0m\u001b[0;34m)\u001b[0m\u001b[0;34m\u001b[0m\u001b[0;34m\u001b[0m\u001b[0m\n\u001b[0m\u001b[1;32m     51\u001b[0m         \u001b[0mD_G_z2\u001b[0m \u001b[0;34m=\u001b[0m \u001b[0moutput\u001b[0m\u001b[0;34m.\u001b[0m\u001b[0mmean\u001b[0m\u001b[0;34m(\u001b[0m\u001b[0;34m)\u001b[0m\u001b[0;34m.\u001b[0m\u001b[0mitem\u001b[0m\u001b[0;34m(\u001b[0m\u001b[0;34m)\u001b[0m\u001b[0;34m\u001b[0m\u001b[0;34m\u001b[0m\u001b[0m\n\u001b[1;32m     52\u001b[0m         \u001b[0;31m# Update G\u001b[0m\u001b[0;34m\u001b[0m\u001b[0;34m\u001b[0m\u001b[0;34m\u001b[0m\u001b[0m\n",
      "\u001b[0;32m~/miniforge3/envs/torchenv/lib/python3.8/site-packages/torch/tensor.py\u001b[0m in \u001b[0;36mbackward\u001b[0;34m(self, gradient, retain_graph, create_graph, inputs)\u001b[0m\n\u001b[1;32m    243\u001b[0m                 \u001b[0mcreate_graph\u001b[0m\u001b[0;34m=\u001b[0m\u001b[0mcreate_graph\u001b[0m\u001b[0;34m,\u001b[0m\u001b[0;34m\u001b[0m\u001b[0;34m\u001b[0m\u001b[0m\n\u001b[1;32m    244\u001b[0m                 inputs=inputs)\n\u001b[0;32m--> 245\u001b[0;31m         \u001b[0mtorch\u001b[0m\u001b[0;34m.\u001b[0m\u001b[0mautograd\u001b[0m\u001b[0;34m.\u001b[0m\u001b[0mbackward\u001b[0m\u001b[0;34m(\u001b[0m\u001b[0mself\u001b[0m\u001b[0;34m,\u001b[0m \u001b[0mgradient\u001b[0m\u001b[0;34m,\u001b[0m \u001b[0mretain_graph\u001b[0m\u001b[0;34m,\u001b[0m \u001b[0mcreate_graph\u001b[0m\u001b[0;34m,\u001b[0m \u001b[0minputs\u001b[0m\u001b[0;34m=\u001b[0m\u001b[0minputs\u001b[0m\u001b[0;34m)\u001b[0m\u001b[0;34m\u001b[0m\u001b[0;34m\u001b[0m\u001b[0m\n\u001b[0m\u001b[1;32m    246\u001b[0m \u001b[0;34m\u001b[0m\u001b[0m\n\u001b[1;32m    247\u001b[0m     \u001b[0;32mdef\u001b[0m \u001b[0mregister_hook\u001b[0m\u001b[0;34m(\u001b[0m\u001b[0mself\u001b[0m\u001b[0;34m,\u001b[0m \u001b[0mhook\u001b[0m\u001b[0;34m)\u001b[0m\u001b[0;34m:\u001b[0m\u001b[0;34m\u001b[0m\u001b[0;34m\u001b[0m\u001b[0m\n",
      "\u001b[0;32m~/miniforge3/envs/torchenv/lib/python3.8/site-packages/torch/autograd/__init__.py\u001b[0m in \u001b[0;36mbackward\u001b[0;34m(tensors, grad_tensors, retain_graph, create_graph, grad_variables, inputs)\u001b[0m\n\u001b[1;32m    143\u001b[0m         \u001b[0mretain_graph\u001b[0m \u001b[0;34m=\u001b[0m \u001b[0mcreate_graph\u001b[0m\u001b[0;34m\u001b[0m\u001b[0;34m\u001b[0m\u001b[0m\n\u001b[1;32m    144\u001b[0m \u001b[0;34m\u001b[0m\u001b[0m\n\u001b[0;32m--> 145\u001b[0;31m     Variable._execution_engine.run_backward(\n\u001b[0m\u001b[1;32m    146\u001b[0m         \u001b[0mtensors\u001b[0m\u001b[0;34m,\u001b[0m \u001b[0mgrad_tensors_\u001b[0m\u001b[0;34m,\u001b[0m \u001b[0mretain_graph\u001b[0m\u001b[0;34m,\u001b[0m \u001b[0mcreate_graph\u001b[0m\u001b[0;34m,\u001b[0m \u001b[0minputs\u001b[0m\u001b[0;34m,\u001b[0m\u001b[0;34m\u001b[0m\u001b[0;34m\u001b[0m\u001b[0m\n\u001b[1;32m    147\u001b[0m         allow_unreachable=True, accumulate_grad=True)  # allow_unreachable flag\n",
      "\u001b[0;31mKeyboardInterrupt\u001b[0m: "
     ]
    }
   ],
   "source": [
    "img_list = []\n",
    "G_losses = []\n",
    "D_losses = []\n",
    "iters = 0\n",
    "\n",
    "for epoch in range(num_epochs):\n",
    "    # for each batch in the dataloader\n",
    "    for i, data in enumerate(data_loader,0):\n",
    "        # UPDATE D TO MAXIMIZE log(D(x)) + log(1 - D(G(z)))\n",
    "        ## FIRST TRAIN WITH ALL REAL IMAGES BATCH\n",
    "        netD.zero_grad()\n",
    "        use_data = data[0]\n",
    "        #label = np.ones((batch_size,1))\n",
    "       # label = torch.from_numpy(label).float()\n",
    "        label = torch.full((batch_size,1), real_label, dtype=torch.float)\n",
    "        # Forward pass the batch for real images, through D\n",
    "        output = netD(use_data)\n",
    "        errD_real = criterion(output,label)\n",
    "        # Calculate gradients for D with a backwards pass\n",
    "        errD_real.backward()\n",
    "        D_x = output.mean().item()\n",
    "        \n",
    "        ## NOW TRAIN D WITH AN ALL FAKE IMAGES BATCH\n",
    "        noise = np.random.normal(size=(batch_size,50,1,1))\n",
    "        noise = torch.from_numpy(noise).float()\n",
    "        # GENERATE BATCH OF FAKE IMAGES, USING G\n",
    "        fake = netG(noise)\n",
    "        label.fill_(fake_label)\n",
    "        # CLASSIFY THE FAKE BATCH USING D\n",
    "        output = netD(fake.detach())\n",
    "        # Calculate loss for D on the all-fake batch\n",
    "        errD_fake = criterion(output,label)\n",
    "        # Calculate gradients for this batch, accumulated (summed) w the previous batch\n",
    "        errD_fake.backward()\n",
    "        D_G_z1 = output.mean().item()\n",
    "        # Compute error of D as the sum over fake and real batches\n",
    "        errD = errD_real + errD_fake\n",
    "        # Update D\n",
    "        optimizerD.step()\n",
    "        \n",
    "        #--------------------------------------\n",
    "        # Update G network: maximize log(D(G(z)))\n",
    "        netG.zero_grad()\n",
    "        label.fill_(real_label) # fake labels are considered real for the generator loss\n",
    "        # Since we just updated D, perform another forward pass of all-fake batch through D\n",
    "        output = netD(fake)\n",
    "        # Calculate loss for G based on this output\n",
    "        errG = criterion(output,label) # If it's all correct, you did good because D thinks you're real\n",
    "        # Calculate gradients for G\n",
    "        errG.backward()\n",
    "        D_G_z2 = output.mean().item()\n",
    "        # Update G\n",
    "        optimizerG.step()\n",
    "        \n",
    "        # Print training stats\n",
    "        if i % 50 == 0:\n",
    "            print('[%d/%d][%d/%d]\\tLoss_D: %.4f\\tLoss_G: %.4f\\tD(x): %.4f\\tD(G(z)): %.4f / %.4f'\n",
    "                  % (epoch, num_epochs, i, len(data_loader),\n",
    "                     errD.item(), errG.item(), D_x, D_G_z1, D_G_z2))\n",
    "        G_losses.append(errG.item())\n",
    "        D_losses.append(errD.item())\n",
    "        \n",
    "        if (iters % 500 == 0) or ((epoch == num_epochs-1) and (i == len(data_loader)-1)):\n",
    "            with torch.no_grad():\n",
    "                fake = netG(fixed_noise).detach().cpu()\n",
    "            img_list.append(vutils.make_grid(fake, padding=2, normalize=True))\n",
    "        \n",
    "        iters += 1"
   ]
  },
  {
   "cell_type": "code",
   "execution_count": null,
   "id": "3d04269c",
   "metadata": {},
   "outputs": [],
   "source": [
    "#If there is a keyboard interrupt error above, it means that I manually stopped training\n",
    "# because I didn't think that more was needed\n",
    "\n",
    "# Check out the results below!"
   ]
  },
  {
   "cell_type": "code",
   "execution_count": 146,
   "id": "116134b3",
   "metadata": {},
   "outputs": [
    {
     "data": {
      "text/plain": [
       "<matplotlib.image.AxesImage at 0x16bfe8910>"
      ]
     },
     "execution_count": 146,
     "metadata": {},
     "output_type": "execute_result"
    },
    {
     "data": {
      "image/png": "[encoded data removed]",
      "text/plain": [
       "<Figure size 432x288 with 1 Axes>"
      ]
     },
     "metadata": {
      "needs_background": "light"
     },
     "output_type": "display_data"
    }
   ],
   "source": [
    "# RUN THIS CELL TO GENERATE IMAGES USING THE GENERATOR (after training)\n",
    "noise = np.random.normal(size=(1,50,1,1))\n",
    "noise = torch.from_numpy(noise).float()\n",
    "test_output = netG(noise)\n",
    "test_img = test_output[0].detach().numpy().reshape((64,64))\n",
    "plt.imshow(test_img,cmap='gray')"
   ]
  },
  {
   "cell_type": "code",
   "execution_count": null,
   "id": "5b3b5005",
   "metadata": {},
   "outputs": [],
   "source": []
  }
 ],
 "metadata": {
  "kernelspec": {
   "display_name": "Python [conda env:torchenv] *",
   "language": "python",
   "name": "conda-env-torchenv-py"
  },
  "language_info": {
   "codemirror_mode": {
    "name": "ipython",
    "version": 3
   },
   "file_extension": ".py",
   "mimetype": "text/x-python",
   "name": "python",
   "nbconvert_exporter": "python",
   "pygments_lexer": "ipython3",
   "version": "3.8.8"
  }
 },
 "nbformat": 4,
 "nbformat_minor": 5
}
